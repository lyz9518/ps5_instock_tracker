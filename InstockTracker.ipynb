{
 "cells": [
  {
   "cell_type": "code",
   "execution_count": 7,
   "id": "1fa57450",
   "metadata": {},
   "outputs": [],
   "source": [
    "import os\n",
    "import smtplib\n",
    "from email.message import EmailMessage"
   ]
  },
  {
   "cell_type": "code",
   "execution_count": 8,
   "id": "8b234634",
   "metadata": {},
   "outputs": [],
   "source": [
    "HOST_EMAIL = os.environ.get('PS5TRACKER')\n",
    "HOST_EMAIL_PWD = os.environ.get('PS5TRACKERPWD')"
   ]
  },
  {
   "cell_type": "code",
   "execution_count": 10,
   "id": "06af61f0",
   "metadata": {},
   "outputs": [],
   "source": [
    "def send_warning(web):\n",
    "    '''\n",
    "        Send instock warning email to end-user\n",
    "    '''\n",
    "    msg = EmailMessage()\n",
    "    msg['Subject'] = f'Play Station 5 Instock at {web}'\n",
    "    msg['From'] = HOST_EMAIL\n",
    "    msg['To'] = HOST_EMAIL\n",
    "    msg.set_content(f'{web} has PS5 in stock. RUSH!!!!!')\n",
    "    \n",
    "    with smtplib.SMTP('smtp.gmail.com', 587) as smtp:\n",
    "        smtp.ehlo()\n",
    "        smtp.starttls()\n",
    "        smtp.ehlo()\n",
    "        \n",
    "        smtp.login(HOST_EMAIL, HOST_EMAIL_PWD)\n",
    "        \n",
    "        smtp.send_message(msg)"
   ]
  },
  {
   "cell_type": "code",
   "execution_count": null,
   "id": "ffe9c420",
   "metadata": {},
   "outputs": [],
   "source": []
  }
 ],
 "metadata": {
  "kernelspec": {
   "display_name": "Python 3 (ipykernel)",
   "language": "python",
   "name": "python3"
  },
  "language_info": {
   "codemirror_mode": {
    "name": "ipython",
    "version": 3
   },
   "file_extension": ".py",
   "mimetype": "text/x-python",
   "name": "python",
   "nbconvert_exporter": "python",
   "pygments_lexer": "ipython3",
   "version": "3.9.6"
  }
 },
 "nbformat": 4,
 "nbformat_minor": 5
}
