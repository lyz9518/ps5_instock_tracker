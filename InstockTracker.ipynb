{
 "cells": [
  {
   "cell_type": "code",
   "execution_count": 63,
   "id": "1fa57450",
   "metadata": {},
   "outputs": [],
   "source": [
    "import os\n",
    "import time\n",
    "import smtplib\n",
    "from email.message import EmailMessage\n",
    "\n",
    "from selenium import webdriver\n",
    "from selenium.webdriver.common.keys import Keys\n",
    "from selenium.webdriver.common.by import By"
   ]
  },
  {
   "cell_type": "code",
   "execution_count": 64,
   "id": "8b234634",
   "metadata": {},
   "outputs": [],
   "source": [
    "HOST_EMAIL = os.environ.get('PS5TRACKER')\n",
    "HOST_EMAIL_PWD = os.environ.get('PS5TRACKERPWD')"
   ]
  },
  {
   "cell_type": "code",
   "execution_count": 84,
   "id": "4f1f6ba7",
   "metadata": {},
   "outputs": [],
   "source": [
    "class Instock:\n",
    "    def __init__(self):\n",
    "        self.last_timestamp = None\n",
    "        # We are using nowinstock for checking availability\n",
    "        self.url = 'https://www.nowinstock.net/videogaming/consoles/sonyps5/'\n",
    "        \n",
    "    def send_warning(self, seller):\n",
    "        '''\n",
    "            Send instock warning email to end-user\n",
    "        '''\n",
    "        msg = EmailMessage()\n",
    "        msg['Subject'] = f'Play Station 5 Instock at {seller}'\n",
    "        msg['From'] = HOST_EMAIL\n",
    "        msg['To'] = HOST_EMAIL\n",
    "        msg.set_content(f'{seller} has PS5 in stock. RUSH!!!!!')\n",
    "\n",
    "        with smtplib.SMTP('smtp.gmail.com', 587) as smtp:\n",
    "            smtp.ehlo()\n",
    "            smtp.starttls()\n",
    "            smtp.ehlo()\n",
    "\n",
    "            smtp.login(HOST_EMAIL, HOST_EMAIL_PWD)\n",
    "\n",
    "            smtp.send_message(msg)\n",
    "            \n",
    "    def instock_detector(self):\n",
    "        '''\n",
    "            Download Chromedriver and paste its path to chromedriver var.\n",
    "        '''\n",
    "        while True:\n",
    "            chromedriver = '/Users/lyz9518/Documents/chromedriver'\n",
    "            driver = webdriver.Chrome(chromedriver)\n",
    "            driver.get(self.url)\n",
    "            time.sleep(1) # wait for cookies confirmation\n",
    "            elements = driver.find_elements_by_class_name('cc_b_ok')\n",
    "            elements[0].send_keys(Keys.ENTER)\n",
    "\n",
    "            # Trace the most recent instock history\n",
    "\n",
    "            data = driver.find_element(By.XPATH, '//div[@id=\"DisplayHistory\"]/div[@id=\"data\"]/table/tbody')\n",
    "            last_record = data.find_elements_by_tag_name('tr')[1].find_elements_by_tag_name('td')\n",
    "\n",
    "            timestamp = last_record[0].text #e.g. ['Aug', '31', '-', '10:08', 'AM', 'EST']\n",
    "            seller = last_record[1].text.split()[0]\n",
    "\n",
    "            # New Instock Detected, Send Warning Email\n",
    "            if self.last_timestamp != None:\n",
    "                if self.last_timestamp != timestamp: # new instock info appears!\n",
    "                    self.last_timestamp = timestamp\n",
    "                    self.send_warning(seller)\n",
    "                    print(\"Warning Email Sent!\")\n",
    "                    time.sleep(5)\n",
    "                    driver.close()\n",
    "                    break\n",
    "                \n",
    "            self.last_timestamp = timestamp\n",
    "            driver.close()\n",
    "            \n",
    "            # Extend the check cycle\n",
    "            time.sleep(5)\n",
    "        return\n",
    "        \n",
    "        \n",
    "    "
   ]
  },
  {
   "cell_type": "code",
   "execution_count": 85,
   "id": "f3437deb",
   "metadata": {},
   "outputs": [
    {
     "name": "stdout",
     "output_type": "stream",
     "text": [
      "Warning Email Sent!\n"
     ]
    }
   ],
   "source": [
    "detector = Instock()\n",
    "detector.instock_detector()"
   ]
  },
  {
   "cell_type": "code",
   "execution_count": null,
   "id": "21985485",
   "metadata": {},
   "outputs": [],
   "source": []
  }
 ],
 "metadata": {
  "kernelspec": {
   "display_name": "Python 3 (ipykernel)",
   "language": "python",
   "name": "python3"
  },
  "language_info": {
   "codemirror_mode": {
    "name": "ipython",
    "version": 3
   },
   "file_extension": ".py",
   "mimetype": "text/x-python",
   "name": "python",
   "nbconvert_exporter": "python",
   "pygments_lexer": "ipython3",
   "version": "3.9.6"
  }
 },
 "nbformat": 4,
 "nbformat_minor": 5
}
